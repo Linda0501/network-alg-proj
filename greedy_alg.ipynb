{
 "cells": [
  {
   "cell_type": "code",
   "execution_count": 2,
   "metadata": {},
   "outputs": [],
   "source": [
    "import networkx as nx\n",
    "from collections import defaultdict"
   ]
  },
  {
   "cell_type": "code",
   "execution_count": 17,
   "metadata": {},
   "outputs": [
    {
     "data": {
      "image/png": "[encoded data removed]",
      "text/plain": [
       "<Figure size 432x288 with 1 Axes>"
      ]
     },
     "metadata": {},
     "output_type": "display_data"
    }
   ],
   "source": [
    "# small graphs for testing\n",
    "G1_elist = [(1,2), (1,3), (2,4), (3,4), (1,4)]\n",
    "# G1 looks like\n",
    "# o-o\n",
    "# |\\|\n",
    "# o-o\n",
    "\n",
    "G2_elist = [(1,2), (2,3), (2,4), (3,5), (4,6)]\n",
    "#   o\n",
    "#   |\n",
    "#   o\n",
    "#  / \\\n",
    "# o   o\n",
    "# |   |\n",
    "# o   o\n",
    "\n",
    "G1 = nx.Graph()\n",
    "G1.add_edges_from(G1_elist)\n",
    "G2 = nx.Graph()\n",
    "G2.add_edges_from(G2_elist)\n",
    "G3 = nx.complete_graph(5)\n",
    "nx.draw(G2, with_labels=True)"
   ]
  },
  {
   "cell_type": "code",
   "execution_count": 7,
   "metadata": {},
   "outputs": [],
   "source": [
    "# vertices w more than n*DENSE_THRESHOLD neighbors is considered dense\n",
    "DENSE_THRESHOLD = 0.75\n",
    "SPARSE_THRESHOLD = 0.25"
   ]
  },
  {
   "cell_type": "code",
   "execution_count": 27,
   "metadata": {},
   "outputs": [],
   "source": [
    "def starting_point(G):\n",
    "    result = []\n",
    "    # (node, degree) pairs\n",
    "    all_degrees = G.degree(G.nodes)\n",
    "    \n",
    "    # maps from degree to list of nodes w that degree\n",
    "    deg_to_nodes = defaultdict(list)\n",
    "    for node, deg in all_degrees:\n",
    "        deg_to_nodes[deg].append(node)\n",
    "        \n",
    "    max_deg = max(deg_to_nodes)\n",
    "    min_deg = min(deg_to_nodes)\n",
    "    \n",
    "    # include dense nodes\n",
    "    if max_deg >= (len(G) * DENSE_THRESHOLD):\n",
    "        result.append(deg_to_nodes[max_deg][0])  # could optimize this more\n",
    "    \n",
    "    # include sparse nodes\n",
    "    if min_deg <= (len(G) * SPARSE_THRESHOLD):\n",
    "        if min_deg == 1:\n",
    "            leaf = deg_to_nodes[min_deg][0] # could optimize this more\n",
    "            leaf_neighbor = list(G[leaf])[0] \n",
    "            result.append(leaf_neighbor)  \n",
    "        else:\n",
    "            result.append(deg_to_nodes[min_deg][0])\n",
    "    return result"
   ]
  },
  {
   "cell_type": "code",
   "execution_count": 28,
   "metadata": {},
   "outputs": [
    {
     "data": {
      "text/plain": [
       "[2]"
      ]
     },
     "execution_count": 28,
     "metadata": {},
     "output_type": "execute_result"
    }
   ],
   "source": [
    "s = starting_point(G2)\n",
    "s"
   ]
  },
  {
   "cell_type": "code",
   "execution_count": null,
   "metadata": {},
   "outputs": [],
   "source": []
  }
 ],
 "metadata": {
  "kernelspec": {
   "display_name": "Python 3",
   "language": "python",
   "name": "python3"
  },
  "language_info": {
   "codemirror_mode": {
    "name": "ipython",
    "version": 3
   },
   "file_extension": ".py",
   "mimetype": "text/x-python",
   "name": "python",
   "nbconvert_exporter": "python",
   "pygments_lexer": "ipython3",
   "version": "3.7.3"
  }
 },
 "nbformat": 4,
 "nbformat_minor": 2
}
