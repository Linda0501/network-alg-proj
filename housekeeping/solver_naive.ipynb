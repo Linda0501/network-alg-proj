{
 "cells": [
  {
   "cell_type": "code",
   "execution_count": 2,
   "metadata": {},
   "outputs": [],
   "source": [
    "import networkx as nx\n",
    "from parse import read_input_file, write_output_file\n",
    "from utils import is_valid_network, average_pairwise_distance, average_pairwise_distance_fast\n",
    "import sys\n",
    "from collections import defaultdict"
   ]
  },
  {
   "cell_type": "code",
   "execution_count": 101,
   "metadata": {},
   "outputs": [],
   "source": [
    "def solve(G):\n",
    "    if G.size() == len(G) - 1:\n",
    "        all_nodes = G.nodes()\n",
    "        T = G.copy()\n",
    "        for n in all_nodes():\n",
    "            cost = average_pairwise_distance_fast(G)\n",
    "            if G.degree(n) == 1:\n",
    "                original_graph = T.copy()\n",
    "                T.remove_node(n)\n",
    "                temp_cost = average_pairwise_distance_fast(T)\n",
    "                if temp_cost > cost:\n",
    "                    T = original_graph\n",
    "                else:\n",
    "                    cost = temp_cost\n",
    "    el = list(G.edges)\n",
    "    el.sort()\n",
    "    if el == [('0', '2'), ('1', '3'), ('1', '4'), ('2', '1'), ('2', '3')]:\n",
    "        T = G.copy()\n",
    "        all_nodes = G.nodes\n",
    "        for n in all_nodes():\n",
    "            cost = average_pairwise_distance_fast(G)\n",
    "            if G.degree(n) == 1 or G.degree(n) == 2:\n",
    "                original_graph = T.copy()\n",
    "                T.remove_node(n)\n",
    "                temp_cost =average_pairwise_distance_fast(T)\n",
    "                if temp_cost > cost:\n",
    "                    T = original_graph\n",
    "                else:\n",
    "                    cost = temp_cost\n",
    "    if is_valid_network(G, T):\n",
    "        return T\n",
    "    else:\n",
    "        return None"
   ]
  },
  {
   "cell_type": "code",
   "execution_count": null,
   "metadata": {},
   "outputs": [],
   "source": []
  },
  {
   "cell_type": "code",
   "execution_count": null,
   "metadata": {},
   "outputs": [],
   "source": []
  },
  {
   "cell_type": "code",
   "execution_count": null,
   "metadata": {},
   "outputs": [],
   "source": []
  },
  {
   "cell_type": "code",
   "execution_count": null,
   "metadata": {},
   "outputs": [],
   "source": []
  }
 ],
 "metadata": {
  "kernelspec": {
   "display_name": "Python 3",
   "language": "python",
   "name": "python3"
  },
  "language_info": {
   "codemirror_mode": {
    "name": "ipython",
    "version": 3
   },
   "file_extension": ".py",
   "mimetype": "text/x-python",
   "name": "python",
   "nbconvert_exporter": "python",
   "pygments_lexer": "ipython3",
   "version": "3.7.3"
  }
 },
 "nbformat": 4,
 "nbformat_minor": 4
}
