{
 "cells": [
  {
   "cell_type": "markdown",
   "metadata": {},
   "source": [
    "Brute Force\n",
    "1. find all spanning trees\n",
    "2. for each spanning tree\n",
    "    1. try remove/keep each leaf edge\n",
    "    2. compute cost of trimmed tree"
   ]
  },
  {
   "cell_type": "markdown",
   "metadata": {},
   "source": [
    "Greedy\n",
    "1. find starting vertex\n",
    "    1. input: a graph G\n",
    "    2. return: a set of vertex candidates “candidates”\n",
    "    3. find degree of all vertices in G, store them in a list “degrees”\n",
    "    4. two scenarios (depending on whether we have a very dense vertex and/or a very light vertex)\n",
    "        1. scenario 1: G has light vertices\n",
    "            1. if min(degrees) == 1, aka there’s at least one leaf\n",
    "                1. for all immediate neighbors of leaves, add the neighbor connected to the lightest leaf edge to candidates\n",
    "            2. elif min(degree) <= |V|/4\n",
    "                1. add the node of min degree, along with all of its neighbors, to candidates\n",
    "        2. scenario 2: G has dense vertices\n",
    "            1. if max(degrees) == |V| - 1\n",
    "                1. add that vertex, return cost would be 0\n",
    "            2. elif max(degrees) >= 3|V|/4\n",
    "                1. add that vertex to candidates\n",
    "\n",
    "2. greedy algorithm\n",
    "    1. input: a graph G and a starting vertex \n",
    "    2. initialize a tree T=starting vertex\n",
    "    3. initialize a “covered” vertices set, containing all vertices dominated by T\n",
    "    4. for all edges incident to T, pick the one whose addition produces min avg pairwise cost\n",
    "    5. add that vertex along with all of its immediate neighbors to covered. add that vertex and the edge leading into it to T"
   ]
  },
  {
   "cell_type": "code",
   "execution_count": null,
   "metadata": {},
   "outputs": [],
   "source": []
  }
 ],
 "metadata": {
  "kernelspec": {
   "display_name": "Python 3",
   "language": "python",
   "name": "python3"
  },
  "language_info": {
   "codemirror_mode": {
    "name": "ipython",
    "version": 3
   },
   "file_extension": ".py",
   "mimetype": "text/x-python",
   "name": "python",
   "nbconvert_exporter": "python",
   "pygments_lexer": "ipython3",
   "version": "3.7.3"
  }
 },
 "nbformat": 4,
 "nbformat_minor": 2
}
