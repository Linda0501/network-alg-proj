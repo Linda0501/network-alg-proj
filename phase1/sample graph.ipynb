{
 "cells": [
  {
   "cell_type": "code",
   "execution_count": 5,
   "metadata": {},
   "outputs": [
    {
     "name": "stdout",
     "output_type": "stream",
     "text": [
      "Requirement already satisfied: networkx in /anaconda3/lib/python3.7/site-packages (2.1)\n",
      "Requirement already satisfied: decorator>=4.1.0 in /anaconda3/lib/python3.7/site-packages (from networkx) (4.3.0)\n",
      "\u001b[33mYou are using pip version 18.1, however version 20.0.2 is available.\n",
      "You should consider upgrading via the 'pip install --upgrade pip' command.\u001b[0m\n"
     ]
    }
   ],
   "source": [
    "!pip install networkx"
   ]
  },
  {
   "cell_type": "code",
   "execution_count": 9,
   "metadata": {},
   "outputs": [],
   "source": [
    "import networkx as nx\n",
    "import matplotlib.pyplot as plt"
   ]
  },
  {
   "cell_type": "code",
   "execution_count": 10,
   "metadata": {},
   "outputs": [],
   "source": [
    "G = nx.Graph()"
   ]
  },
  {
   "cell_type": "code",
   "execution_count": 74,
   "metadata": {},
   "outputs": [],
   "source": [
    "G.add_node(1)\n",
    "G.add_nodes_from([2, 3])\n",
    "G.add_edge(1,2, weight = 100)\n",
    "G.add_edge(1,4, weight = 100)\n",
    "G.add_edge(2,3, weight = 100)\n",
    "G.add_edge(2,4, weight = 200)"
   ]
  },
  {
   "cell_type": "code",
   "execution_count": 75,
   "metadata": {},
   "outputs": [
    {
     "data": {
      "image/png": "[encoded data removed]",
      "text/plain": [
       "<Figure size 432x288 with 1 Axes>"
      ]
     },
     "metadata": {},
     "output_type": "display_data"
    }
   ],
   "source": [
    "nx.draw(G, with_labels=True)"
   ]
  },
  {
   "cell_type": "code",
   "execution_count": 76,
   "metadata": {},
   "outputs": [],
   "source": [
    "#generatee input file\n",
    "# f = open(\"sample-edgelist.in\", \"w+\")\n",
    "# num_nodes = G.number_of_nodes()\n",
    "# f.write(str(num_nodes))\n",
    "# f.write('\\n')\n",
    "# f.close()"
   ]
  },
  {
   "cell_type": "code",
   "execution_count": 77,
   "metadata": {},
   "outputs": [],
   "source": [
    "f=open(\"sample-edgelist.in\", \"a\")\n",
    "nx.write_weighted_edgelist(G, 'sample-edgelist.in')\n",
    "f.close()\n"
   ]
  },
  {
   "cell_type": "code",
   "execution_count": 80,
   "metadata": {},
   "outputs": [],
   "source": [
    "#function to format a input file\n",
    "def append_num_nodes():\n",
    "    \n",
    "    input_file = \"input.in\"\n",
    "    f = open(\"input.in\", \"w+\")\n",
    "    \n",
    "    num_nodes = G.number_of_nodes()\n",
    "    f.write(str(num_nodes))\n",
    "    f.write('\\n')\n",
    "\n",
    "    g = open(\"sample-edgelist.in\", \"r\")\n",
    "    gl = g.readlines()\n",
    "    for line in gl:\n",
    "        f.write(line)\n",
    "    \n",
    "    f.close()\n",
    "    g.close()\n",
    "        "
   ]
  },
  {
   "cell_type": "code",
   "execution_count": 81,
   "metadata": {},
   "outputs": [],
   "source": [
    "append_num_nodes()"
   ]
  },
  {
   "cell_type": "code",
   "execution_count": null,
   "metadata": {},
   "outputs": [],
   "source": []
  }
 ],
 "metadata": {
  "kernelspec": {
   "display_name": "Python 3",
   "language": "python",
   "name": "python3"
  },
  "language_info": {
   "codemirror_mode": {
    "name": "ipython",
    "version": 3
   },
   "file_extension": ".py",
   "mimetype": "text/x-python",
   "name": "python",
   "nbconvert_exporter": "python",
   "pygments_lexer": "ipython3",
   "version": "3.7.2"
  }
 },
 "nbformat": 4,
 "nbformat_minor": 2
}
