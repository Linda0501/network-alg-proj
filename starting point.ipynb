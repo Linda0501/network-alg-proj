{
 "cells": [
  {
   "cell_type": "code",
   "execution_count": 1,
   "metadata": {},
   "outputs": [],
   "source": [
    "import networkx as nx"
   ]
  },
  {
   "cell_type": "code",
   "execution_count": null,
   "metadata": {},
   "outputs": [],
   "source": [
    "def find_vertex(d, all_d):\n",
    "    result = []\n",
    "    for i in range(len(G) - 1):\n",
    "        if all_d[i] == d:\n",
    "            result.append(i)\n",
    "    return result\n",
    "def starting_point(G):\n",
    "    result = []\n",
    "    all_degrees = G.degree(G.nodes)\n",
    "    degree = []\n",
    "    for i in range(len(G) - 1):\n",
    "        degree.append(all_degrees[i])\n",
    "    if (max(degree) < (3 * len(G)/4)):\n",
    "        if min(degree) == 1:\n",
    "            result += find_vertex(1, all_degrees)\n",
    "        else:\n",
    "            result += find_vertex(min(degree), all_degrees)\n",
    "            num_of_nodes = len(find_vertex(min(degree), all_degrees))\n",
    "            for i in range(num_of_nodes):\n",
    "                result += G.neighbors(i)\n",
    "    else:\n",
    "        if max(degree) == len(G) - 1:\n",
    "            result += find_vertex(max(degree), all_degrees)\n",
    "        else:\n",
    "            result += find_vertex(max(degree), all_degrees)\n",
    "    return result"
   ]
  }
 ],
 "metadata": {
  "kernelspec": {
   "display_name": "Python 3",
   "language": "python",
   "name": "python3"
  },
  "language_info": {
   "codemirror_mode": {
    "name": "ipython",
    "version": 3
   },
   "file_extension": ".py",
   "mimetype": "text/x-python",
   "name": "python",
   "nbconvert_exporter": "python",
   "pygments_lexer": "ipython3",
   "version": "3.7.3"
  }
 },
 "nbformat": 4,
 "nbformat_minor": 4
}
