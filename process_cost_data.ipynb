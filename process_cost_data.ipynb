{
 "cells": [
  {
   "cell_type": "code",
   "execution_count": 1,
   "metadata": {},
   "outputs": [],
   "source": [
    "import pandas as pd\n",
    "import numpy as np\n",
    "import shutil"
   ]
  },
  {
   "cell_type": "code",
   "execution_count": 2,
   "metadata": {},
   "outputs": [],
   "source": [
    "def convert_to_df(cost_file_name):\n",
    "    f = open(\"submission_meta/\" + cost_file_name, \"r\")\n",
    "    datadict = {}\n",
    "    for line in f:\n",
    "        line.rstrip('\\n')\n",
    "        entry = line.split(': ')\n",
    "        entry[1] = float(entry[1])\n",
    "        datadict[entry[0]] = entry[1]\n",
    "    f.close()\n",
    "    \n",
    "    all_data = pd.DataFrame(datadict.items())\n",
    "    cost_col_name = cost_file_name.split(\".\")[0]\n",
    "    all_data.columns = ['filename', cost_col_name]\n",
    "    all_data = all_data.sort_values(by=\"filename\") # 303 smalls, 303 mediums, 400 larges\n",
    "    return all_data"
   ]
  },
  {
   "cell_type": "code",
   "execution_count": 3,
   "metadata": {},
   "outputs": [],
   "source": [
    "greedy1 = convert_to_df(\"greedy1_cost.txt\")\n",
    "greedy2 = convert_to_df(\"greedy2_cost.txt\")\n",
    "trimMST1 = convert_to_df(\"trimMST1_cost.txt\")\n",
    "ds = convert_to_df(\"ds_spt_cost.txt\")"
   ]
  },
  {
   "cell_type": "code",
   "execution_count": 4,
   "metadata": {},
   "outputs": [],
   "source": [
    "combined = pd.merge(greedy1, greedy2, on=\"filename\")\n",
    "combined = pd.merge(combined, trimMST1, on=\"filename\")\n",
    "combined = pd.merge(combined, ds, on=\"filename\")"
   ]
  },
  {
   "cell_type": "code",
   "execution_count": 5,
   "metadata": {},
   "outputs": [],
   "source": [
    "best_alg = combined.iloc[:, 1:].idxmin(axis=1)\n",
    "best_alg.columns = ['best_alg']\n",
    "best_alg[:20]\n",
    "combined['best_alg'] = best_alg"
   ]
  },
  {
   "cell_type": "code",
   "execution_count": 10,
   "metadata": {},
   "outputs": [
    {
     "data": {
      "text/html": [
       "<div>\n",
       "<style scoped>\n",
       "    .dataframe tbody tr th:only-of-type {\n",
       "        vertical-align: middle;\n",
       "    }\n",
       "\n",
       "    .dataframe tbody tr th {\n",
       "        vertical-align: top;\n",
       "    }\n",
       "\n",
       "    .dataframe thead th {\n",
       "        text-align: right;\n",
       "    }\n",
       "</style>\n",
       "<table border=\"1\" class=\"dataframe\">\n",
       "  <thead>\n",
       "    <tr style=\"text-align: right;\">\n",
       "      <th></th>\n",
       "      <th>filename</th>\n",
       "      <th>greedy1_cost</th>\n",
       "      <th>greedy2_cost</th>\n",
       "      <th>trimMST1_cost</th>\n",
       "      <th>ds_spt_cost</th>\n",
       "      <th>best_alg</th>\n",
       "    </tr>\n",
       "  </thead>\n",
       "  <tbody>\n",
       "    <tr>\n",
       "      <th>0</th>\n",
       "      <td>large-1</td>\n",
       "      <td>53.468443</td>\n",
       "      <td>53.468443</td>\n",
       "      <td>63.822466</td>\n",
       "      <td>74.452747</td>\n",
       "      <td>greedy1_cost</td>\n",
       "    </tr>\n",
       "    <tr>\n",
       "      <th>1</th>\n",
       "      <td>large-10</td>\n",
       "      <td>4.810667</td>\n",
       "      <td>4.810667</td>\n",
       "      <td>21.062745</td>\n",
       "      <td>9.133544</td>\n",
       "      <td>greedy1_cost</td>\n",
       "    </tr>\n",
       "    <tr>\n",
       "      <th>2</th>\n",
       "      <td>large-100</td>\n",
       "      <td>34.509677</td>\n",
       "      <td>34.509677</td>\n",
       "      <td>59.330769</td>\n",
       "      <td>34.509677</td>\n",
       "      <td>greedy1_cost</td>\n",
       "    </tr>\n",
       "    <tr>\n",
       "      <th>3</th>\n",
       "      <td>large-101</td>\n",
       "      <td>32.749036</td>\n",
       "      <td>32.749036</td>\n",
       "      <td>34.686499</td>\n",
       "      <td>32.675943</td>\n",
       "      <td>ds_spt_cost</td>\n",
       "    </tr>\n",
       "    <tr>\n",
       "      <th>4</th>\n",
       "      <td>large-102</td>\n",
       "      <td>0.000000</td>\n",
       "      <td>0.000000</td>\n",
       "      <td>0.000000</td>\n",
       "      <td>0.000000</td>\n",
       "      <td>greedy1_cost</td>\n",
       "    </tr>\n",
       "    <tr>\n",
       "      <th>5</th>\n",
       "      <td>large-103</td>\n",
       "      <td>2.841800</td>\n",
       "      <td>2.785238</td>\n",
       "      <td>11.738967</td>\n",
       "      <td>4.033018</td>\n",
       "      <td>greedy2_cost</td>\n",
       "    </tr>\n",
       "    <tr>\n",
       "      <th>6</th>\n",
       "      <td>large-104</td>\n",
       "      <td>25.284474</td>\n",
       "      <td>25.284474</td>\n",
       "      <td>45.406526</td>\n",
       "      <td>37.052112</td>\n",
       "      <td>greedy1_cost</td>\n",
       "    </tr>\n",
       "    <tr>\n",
       "      <th>7</th>\n",
       "      <td>large-105</td>\n",
       "      <td>2.775833</td>\n",
       "      <td>2.775833</td>\n",
       "      <td>17.260480</td>\n",
       "      <td>7.030670</td>\n",
       "      <td>greedy1_cost</td>\n",
       "    </tr>\n",
       "    <tr>\n",
       "      <th>8</th>\n",
       "      <td>large-106</td>\n",
       "      <td>23.873581</td>\n",
       "      <td>23.873581</td>\n",
       "      <td>61.527231</td>\n",
       "      <td>93.691352</td>\n",
       "      <td>greedy1_cost</td>\n",
       "    </tr>\n",
       "    <tr>\n",
       "      <th>9</th>\n",
       "      <td>large-107</td>\n",
       "      <td>33.333333</td>\n",
       "      <td>33.333333</td>\n",
       "      <td>33.333333</td>\n",
       "      <td>33.333333</td>\n",
       "      <td>greedy1_cost</td>\n",
       "    </tr>\n",
       "  </tbody>\n",
       "</table>\n",
       "</div>"
      ],
      "text/plain": [
       "    filename  greedy1_cost  greedy2_cost  trimMST1_cost  ds_spt_cost  \\\n",
       "0    large-1     53.468443     53.468443      63.822466    74.452747   \n",
       "1   large-10      4.810667      4.810667      21.062745     9.133544   \n",
       "2  large-100     34.509677     34.509677      59.330769    34.509677   \n",
       "3  large-101     32.749036     32.749036      34.686499    32.675943   \n",
       "4  large-102      0.000000      0.000000       0.000000     0.000000   \n",
       "5  large-103      2.841800      2.785238      11.738967     4.033018   \n",
       "6  large-104     25.284474     25.284474      45.406526    37.052112   \n",
       "7  large-105      2.775833      2.775833      17.260480     7.030670   \n",
       "8  large-106     23.873581     23.873581      61.527231    93.691352   \n",
       "9  large-107     33.333333     33.333333      33.333333    33.333333   \n",
       "\n",
       "       best_alg  \n",
       "0  greedy1_cost  \n",
       "1  greedy1_cost  \n",
       "2  greedy1_cost  \n",
       "3   ds_spt_cost  \n",
       "4  greedy1_cost  \n",
       "5  greedy2_cost  \n",
       "6  greedy1_cost  \n",
       "7  greedy1_cost  \n",
       "8  greedy1_cost  \n",
       "9  greedy1_cost  "
      ]
     },
     "execution_count": 10,
     "metadata": {},
     "output_type": "execute_result"
    }
   ],
   "source": [
    "combined[combined['filename'] == 'small-129']\n",
    "test = combined[:10]\n",
    "test"
   ]
  },
  {
   "cell_type": "code",
   "execution_count": 8,
   "metadata": {},
   "outputs": [
    {
     "name": "stdout",
     "output_type": "stream",
     "text": [
      "filename              large-1\n",
      "greedy1_cost          53.4684\n",
      "greedy2_cost          53.4684\n",
      "trimMST1_cost         63.8225\n",
      "ds_spt_cost           74.4527\n",
      "best_alg         greedy1_cost\n",
      "Name: 0, dtype: object\n",
      "filename             large-10\n",
      "greedy1_cost          4.81067\n",
      "greedy2_cost          4.81067\n",
      "trimMST1_cost         21.0627\n",
      "ds_spt_cost           9.13354\n",
      "best_alg         greedy1_cost\n",
      "Name: 1, dtype: object\n",
      "filename            large-100\n",
      "greedy1_cost          34.5097\n",
      "greedy2_cost          34.5097\n",
      "trimMST1_cost         59.3308\n",
      "ds_spt_cost           34.5097\n",
      "best_alg         greedy1_cost\n",
      "Name: 2, dtype: object\n",
      "filename           large-101\n",
      "greedy1_cost          32.749\n",
      "greedy2_cost          32.749\n",
      "trimMST1_cost        34.6865\n",
      "ds_spt_cost          32.6759\n",
      "best_alg         ds_spt_cost\n",
      "Name: 3, dtype: object\n",
      "filename            large-102\n",
      "greedy1_cost                0\n",
      "greedy2_cost                0\n",
      "trimMST1_cost               0\n",
      "ds_spt_cost                 0\n",
      "best_alg         greedy1_cost\n",
      "Name: 4, dtype: object\n",
      "filename            large-103\n",
      "greedy1_cost           2.8418\n",
      "greedy2_cost          2.78524\n",
      "trimMST1_cost          11.739\n",
      "ds_spt_cost           4.03302\n",
      "best_alg         greedy2_cost\n",
      "Name: 5, dtype: object\n",
      "filename            large-104\n",
      "greedy1_cost          25.2845\n",
      "greedy2_cost          25.2845\n",
      "trimMST1_cost         45.4065\n",
      "ds_spt_cost           37.0521\n",
      "best_alg         greedy1_cost\n",
      "Name: 6, dtype: object\n",
      "filename            large-105\n",
      "greedy1_cost          2.77583\n",
      "greedy2_cost          2.77583\n",
      "trimMST1_cost         17.2605\n",
      "ds_spt_cost           7.03067\n",
      "best_alg         greedy1_cost\n",
      "Name: 7, dtype: object\n",
      "filename            large-106\n",
      "greedy1_cost          23.8736\n",
      "greedy2_cost          23.8736\n",
      "trimMST1_cost         61.5272\n",
      "ds_spt_cost           93.6914\n",
      "best_alg         greedy1_cost\n",
      "Name: 8, dtype: object\n",
      "filename            large-107\n",
      "greedy1_cost          33.3333\n",
      "greedy2_cost          33.3333\n",
      "trimMST1_cost         33.3333\n",
      "ds_spt_cost           33.3333\n",
      "best_alg         greedy1_cost\n",
      "Name: 9, dtype: object\n"
     ]
    }
   ],
   "source": [
    "for index, row in test.iterrows():\n",
    "    #print(row)\n",
    "    best_alg = row['best_alg']\n",
    "    best_alg = best_alg[:-5]\n",
    "    fname = row['filename']\n",
    "    best_alg_path = 'output_' + best_alg + '/' + fname + '.out'\n",
    "    shutil.copy(best_alg_path, 'output_final')"
   ]
  },
  {
   "cell_type": "code",
   "execution_count": 9,
   "metadata": {},
   "outputs": [
    {
     "data": {
      "text/html": [
       "<div>\n",
       "<style scoped>\n",
       "    .dataframe tbody tr th:only-of-type {\n",
       "        vertical-align: middle;\n",
       "    }\n",
       "\n",
       "    .dataframe tbody tr th {\n",
       "        vertical-align: top;\n",
       "    }\n",
       "\n",
       "    .dataframe thead th {\n",
       "        text-align: right;\n",
       "    }\n",
       "</style>\n",
       "<table border=\"1\" class=\"dataframe\">\n",
       "  <thead>\n",
       "    <tr style=\"text-align: right;\">\n",
       "      <th></th>\n",
       "      <th>filename</th>\n",
       "      <th>greedy1_cost</th>\n",
       "      <th>greedy2_cost</th>\n",
       "      <th>trimMST1_cost</th>\n",
       "      <th>ds_spt_cost</th>\n",
       "      <th>best_alg</th>\n",
       "    </tr>\n",
       "  </thead>\n",
       "  <tbody>\n",
       "    <tr>\n",
       "      <th>978</th>\n",
       "      <td>small-74</td>\n",
       "      <td>8.333333</td>\n",
       "      <td>8.333333</td>\n",
       "      <td>8.333333</td>\n",
       "      <td>8.0</td>\n",
       "      <td>ds_spt_cost</td>\n",
       "    </tr>\n",
       "  </tbody>\n",
       "</table>\n",
       "</div>"
      ],
      "text/plain": [
       "     filename  greedy1_cost  greedy2_cost  trimMST1_cost  ds_spt_cost  \\\n",
       "978  small-74      8.333333      8.333333       8.333333          8.0   \n",
       "\n",
       "        best_alg  \n",
       "978  ds_spt_cost  "
      ]
     },
     "execution_count": 9,
     "metadata": {},
     "output_type": "execute_result"
    }
   ],
   "source": [
    "combined[combined['filename'] == 'small-74']"
   ]
  },
  {
   "cell_type": "code",
   "execution_count": null,
   "metadata": {},
   "outputs": [],
   "source": [
    "larges = combined[:400]\n",
    "mediums = combined[400:703]\n",
    "smalls = combined[703:]"
   ]
  },
  {
   "cell_type": "code",
   "execution_count": null,
   "metadata": {},
   "outputs": [],
   "source": [
    "combined['ds_spt_cost'].mean(), combined['greedy2_cost'].mean()"
   ]
  },
  {
   "cell_type": "code",
   "execution_count": null,
   "metadata": {},
   "outputs": [],
   "source": [
    "larges['ds_spt_cost'].mean(), larges['greedy2_cost'].mean()"
   ]
  },
  {
   "cell_type": "code",
   "execution_count": null,
   "metadata": {},
   "outputs": [],
   "source": [
    "mediums['ds_spt_cost'].mean(), mediums['greedy2_cost'].mean()"
   ]
  },
  {
   "cell_type": "code",
   "execution_count": null,
   "metadata": {},
   "outputs": [],
   "source": [
    "smalls['ds_spt_cost'].mean(), smalls['greedy2_cost'].mean()"
   ]
  },
  {
   "cell_type": "code",
   "execution_count": null,
   "metadata": {},
   "outputs": [],
   "source": [
    "combined['ds_spt_cost'].median(), combined['greedy2_cost'].median()"
   ]
  }
 ],
 "metadata": {
  "kernelspec": {
   "display_name": "Python 3",
   "language": "python",
   "name": "python3"
  },
  "language_info": {
   "codemirror_mode": {
    "name": "ipython",
    "version": 3
   },
   "file_extension": ".py",
   "mimetype": "text/x-python",
   "name": "python",
   "nbconvert_exporter": "python",
   "pygments_lexer": "ipython3",
   "version": "3.7.3"
  }
 },
 "nbformat": 4,
 "nbformat_minor": 2
}
