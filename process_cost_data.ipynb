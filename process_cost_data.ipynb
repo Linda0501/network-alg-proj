{
 "cells": [
  {
   "cell_type": "code",
   "execution_count": 1,
   "metadata": {},
   "outputs": [],
   "source": [
    "import pandas as pd\n",
    "import numpy as np"
   ]
  },
  {
   "cell_type": "code",
   "execution_count": 2,
   "metadata": {},
   "outputs": [],
   "source": [
    "def convert_to_df(cost_file_name):\n",
    "    f = open(\"submission_meta/\" + cost_file_name, \"r\")\n",
    "    datadict = {}\n",
    "    for line in f:\n",
    "        line.rstrip('\\n')\n",
    "        entry = line.split(': ')\n",
    "        entry[1] = float(entry[1])\n",
    "        datadict[entry[0]] = entry[1]\n",
    "    f.close()\n",
    "    \n",
    "    all_data = pd.DataFrame(datadict.items())\n",
    "    cost_col_name = cost_file_name.split(\".\")[0]\n",
    "    all_data.columns = ['filename', cost_col_name]\n",
    "    all_data = all_data.sort_values(by=\"filename\") # 303 smalls, 303 mediums, 400 larges\n",
    "    return all_data"
   ]
  },
  {
   "cell_type": "code",
   "execution_count": 4,
   "metadata": {},
   "outputs": [],
   "source": [
    "greedy1 = convert_to_df(\"greedy1_cost.txt\")\n",
    "greedy2 = convert_to_df(\"greedy2_cost.txt\")\n",
    "trimMST1 = convert_to_df(\"trimMST1_cost.txt\")\n",
    "ds = convert_to_df(\"ds_spt_cost.txt\")"
   ]
  },
  {
   "cell_type": "code",
   "execution_count": 5,
   "metadata": {},
   "outputs": [],
   "source": [
    "combined = pd.merge(greedy1, greedy2, on=\"filename\")\n",
    "combined = pd.merge(combined, trimMST1, on=\"filename\")\n",
    "combined = pd.merge(combined, ds, on=\"filename\")\n",
    "#best_alg = combined.idxmax(axis=1)"
   ]
  },
  {
   "cell_type": "code",
   "execution_count": 6,
   "metadata": {},
   "outputs": [],
   "source": [
    "larges = combined[:400]\n",
    "mediums = combined[400:703]\n",
    "smalls = combined[703:]"
   ]
  },
  {
   "cell_type": "code",
   "execution_count": 7,
   "metadata": {},
   "outputs": [
    {
     "data": {
      "text/plain": [
       "(102.4069628635693, 80.70448845843076)"
      ]
     },
     "execution_count": 7,
     "metadata": {},
     "output_type": "execute_result"
    }
   ],
   "source": [
    "combined['ds_spt_cost'].mean(), combined['greedy2_cost'].mean()"
   ]
  },
  {
   "cell_type": "code",
   "execution_count": 8,
   "metadata": {},
   "outputs": [
    {
     "data": {
      "text/plain": [
       "(138.66063587234623, 108.90588308230366)"
      ]
     },
     "execution_count": 8,
     "metadata": {},
     "output_type": "execute_result"
    }
   ],
   "source": [
    "larges['ds_spt_cost'].mean(), larges['greedy2_cost'].mean()"
   ]
  },
  {
   "cell_type": "code",
   "execution_count": 9,
   "metadata": {},
   "outputs": [
    {
     "data": {
      "text/plain": [
       "(96.27265914629031, 77.92527766808766)"
      ]
     },
     "execution_count": 9,
     "metadata": {},
     "output_type": "execute_result"
    }
   ],
   "source": [
    "mediums['ds_spt_cost'].mean(), mediums['greedy2_cost'].mean()"
   ]
  },
  {
   "cell_type": "code",
   "execution_count": 10,
   "metadata": {},
   "outputs": [
    {
     "data": {
      "text/plain": [
       "(60.68163224582919, 46.254135388875774)"
      ]
     },
     "execution_count": 10,
     "metadata": {},
     "output_type": "execute_result"
    }
   ],
   "source": [
    "smalls['ds_spt_cost'].mean(), smalls['greedy2_cost'].mean()"
   ]
  },
  {
   "cell_type": "code",
   "execution_count": 11,
   "metadata": {},
   "outputs": [
    {
     "data": {
      "text/plain": [
       "(37.208056214689265, 20.91939607843137)"
      ]
     },
     "execution_count": 11,
     "metadata": {},
     "output_type": "execute_result"
    }
   ],
   "source": [
    "combined['ds_spt_cost'].median(), combined['greedy2_cost'].median()"
   ]
  },
  {
   "cell_type": "code",
   "execution_count": null,
   "metadata": {},
   "outputs": [],
   "source": []
  }
 ],
 "metadata": {
  "kernelspec": {
   "display_name": "Python 3",
   "language": "python",
   "name": "python3"
  },
  "language_info": {
   "codemirror_mode": {
    "name": "ipython",
    "version": 3
   },
   "file_extension": ".py",
   "mimetype": "text/x-python",
   "name": "python",
   "nbconvert_exporter": "python",
   "pygments_lexer": "ipython3",
   "version": "3.7.3"
  }
 },
 "nbformat": 4,
 "nbformat_minor": 2
}
