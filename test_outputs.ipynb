{
 "cells": [
  {
   "cell_type": "code",
   "execution_count": null,
   "metadata": {},
   "outputs": [],
   "source": [
    "import networkx as nx\n",
    "from parse import read_input_file, write_output_file\n",
    "from utils import is_valid_network, average_pairwise_distance, average_pairwise_distance_fast\n",
    "import sys\n",
    "from collections import defaultdict\n",
    "import queue"
   ]
  },
  {
   "cell_type": "code",
   "execution_count": null,
   "metadata": {},
   "outputs": [],
   "source": [
    "def solve(G):\n",
    "    tree = nx.minimum_spanning_tree(G)\n",
    "    cost = average_pairwise_distance_fast(tree)\n",
    "\n",
    "    # max leaf heap containing (weight, leaf_edge) tuples\n",
    "    leaf_heap = queue.PriorityQueue()\n",
    "    # keep track of leaves in the heap\n",
    "    leaves_in_heap = set()\n",
    "\n",
    "    # keep pruning heaviest leaf from mst until the heaviest leaf becomes too light\n",
    "    # or the tree is no longer dominating\n",
    "    while True:\n",
    "        print(list(tree.edges))\n",
    "        # (node, degree) pairs\n",
    "        all_degrees = tree.degree(tree.nodes)\n",
    "        \n",
    "        # find all leaves\n",
    "        leaves = []\n",
    "        for node, deg in all_degrees:\n",
    "            if deg == 1:\n",
    "                leaves.append(node)\n",
    "\n",
    "        # add leaves to PQ\n",
    "        for leaf in leaves:\n",
    "            leaf_neighbor = list(nx.neighbors(tree, leaf))[0]\n",
    "            leaf_weight = G[leaf][leaf_neighbor]['weight']\n",
    "            \n",
    "            # negate weight to use minPQ as maxPQ\n",
    "            entry = (-leaf_weight, (leaf, leaf_neighbor))\n",
    "            if entry not in leaves_in_heap:\n",
    "                leaf_heap.put(entry)\n",
    "                leaves_in_heap.add(entry)\n",
    "        \n",
    "        heaviest = leaf_heap.get()\n",
    "        edge = heaviest[1]\n",
    "        print(edge)\n",
    "        tree.remove_edge(edge[0], edge[1])\n",
    "        tree.remove_node(edge[0])\n",
    "        nx.draw(tree)\n",
    "        # if removing the edge makes the tree non-dominating, put it back\n",
    "        if not nx.is_dominating_set(G, tree):\n",
    "            tree.add_edge(edge[0], edge[1])\n",
    "            break\n",
    "\n",
    "        # if removing the edge results in greater cost, put it back\n",
    "        temp_cost = average_pairwise_distance_fast(tree)\n",
    "        if temp_cost > cost:\n",
    "            tree.add_edge(edge[0], edge[1])\n",
    "            break\n",
    "\n",
    "        # the leaf is officially removed; update leaves set and cost\n",
    "        leaves_in_heap.remove(heaviest)\n",
    "        cost = temp_cost\n",
    "\n",
    "    return tree"
   ]
  },
  {
   "cell_type": "code",
   "execution_count": null,
   "metadata": {},
   "outputs": [],
   "source": [
    "filenum = \"69\"\n",
    "path = \"./inputs/small-{}.in\".format(filenum)\n",
    "G = read_input_file(path)\n",
    "#nx.draw(T, with_labels=True)\n",
    "T = solve(G)"
   ]
  },
  {
   "cell_type": "code",
   "execution_count": null,
   "metadata": {},
   "outputs": [],
   "source": [
    "mst = nx.minimum_spanning_tree(G)\n",
    "nx.draw(mst, with_labels=True)"
   ]
  },
  {
   "cell_type": "code",
   "execution_count": null,
   "metadata": {},
   "outputs": [],
   "source": [
    "nx.draw(T, with_labels=True)"
   ]
  },
  {
   "cell_type": "code",
   "execution_count": null,
   "metadata": {},
   "outputs": [],
   "source": [
    "nx.draw(G, with_labels=True)"
   ]
  },
  {
   "cell_type": "code",
   "execution_count": null,
   "metadata": {},
   "outputs": [],
   "source": [
    "all_degrees = T.degree(T.nodes)\n",
    "all_degrees"
   ]
  },
  {
   "cell_type": "code",
   "execution_count": null,
   "metadata": {},
   "outputs": [],
   "source": [
    "T.edges"
   ]
  },
  {
   "cell_type": "code",
   "execution_count": null,
   "metadata": {},
   "outputs": [],
   "source": [
    "G.edges"
   ]
  },
  {
   "cell_type": "code",
   "execution_count": null,
   "metadata": {},
   "outputs": [],
   "source": [
    "nx.is_dominating_set(G, T.nodes)"
   ]
  },
  {
   "cell_type": "code",
   "execution_count": null,
   "metadata": {},
   "outputs": [],
   "source": [
    "nx.is_tree(T)"
   ]
  },
  {
   "cell_type": "code",
   "execution_count": null,
   "metadata": {},
   "outputs": [],
   "source": [
    "nx.number_of_nodes(G)"
   ]
  },
  {
   "cell_type": "code",
   "execution_count": null,
   "metadata": {},
   "outputs": [],
   "source": [
    "G.degree[19]"
   ]
  },
  {
   "cell_type": "code",
   "execution_count": null,
   "metadata": {},
   "outputs": [],
   "source": [
    "l = list(nx.neighbors(G, 19))"
   ]
  },
  {
   "cell_type": "code",
   "execution_count": null,
   "metadata": {},
   "outputs": [],
   "source": [
    "l.sort()"
   ]
  },
  {
   "cell_type": "code",
   "execution_count": null,
   "metadata": {},
   "outputs": [],
   "source": [
    "l"
   ]
  },
  {
   "cell_type": "code",
   "execution_count": null,
   "metadata": {},
   "outputs": [],
   "source": [
    "list(nx.nodes_with_selfloops(G))"
   ]
  },
  {
   "cell_type": "code",
   "execution_count": null,
   "metadata": {},
   "outputs": [],
   "source": []
  }
 ],
 "metadata": {
  "kernelspec": {
   "display_name": "Python 3",
   "language": "python",
   "name": "python3"
  },
  "language_info": {
   "codemirror_mode": {
    "name": "ipython",
    "version": 3
   },
   "file_extension": ".py",
   "mimetype": "text/x-python",
   "name": "python",
   "nbconvert_exporter": "python",
   "pygments_lexer": "ipython3",
   "version": "3.7.3"
  }
 },
 "nbformat": 4,
 "nbformat_minor": 2
}
