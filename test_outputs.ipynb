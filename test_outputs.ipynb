{
 "cells": [
  {
   "cell_type": "code",
   "execution_count": 21,
   "metadata": {},
   "outputs": [],
   "source": [
    "import networkx as nx\n",
    "from parse import read_input_file, write_output_file\n",
    "from utils import is_valid_network, average_pairwise_distance, average_pairwise_distance_fast\n",
    "import sys\n",
    "from collections import defaultdict\n",
    "import queue"
   ]
  },
  {
   "cell_type": "code",
   "execution_count": 22,
   "metadata": {},
   "outputs": [],
   "source": [
    "def solve(G):\n",
    "\n",
    "    # if by luck there's a node connecting to all other verts, return it immediately\n",
    "    for node in G.nodes:\n",
    "        if len(list(nx.neighbors(G, node))) == nx.number_of_nodes(G) - 1:\n",
    "            min_tree = nx.Graph()\n",
    "            min_tree.add_node(node)\n",
    "            return min_tree\n",
    "\n",
    "    naive_tree = helper(G)\n",
    "\n",
    "    tree = nx.minimum_spanning_tree(G)\n",
    "    cost = average_pairwise_distance_fast(tree)\n",
    "\n",
    "    # max leaf heap containing (weight, leaf_edge) tuples\n",
    "    leaf_heap = queue.PriorityQueue()\n",
    "    # keep track of leaves in the heap\n",
    "    leaves_in_heap = set()\n",
    "\n",
    "    # keep pruning heaviest leaf from mst until the heaviest leaf becomes too light\n",
    "    # or the tree is no longer dominating\n",
    "    while True:\n",
    "        # (node, degree) pairs\n",
    "        all_degrees = tree.degree(tree.nodes)\n",
    "        \n",
    "        # find all leaves\n",
    "        leaves = []\n",
    "        for node, deg in all_degrees:\n",
    "            if deg == 1:\n",
    "                leaves.append(node)\n",
    "\n",
    "        # add leaves to PQ\n",
    "        for leaf in leaves:\n",
    "            leaf_neighbor = list(nx.neighbors(tree, leaf))[0]\n",
    "            leaf_weight = G[leaf][leaf_neighbor]['weight']\n",
    "            \n",
    "            # negate weight to use minPQ as maxPQ\n",
    "            entry = (-leaf_weight, (leaf, leaf_neighbor))\n",
    "            if entry not in leaves_in_heap:\n",
    "                leaf_heap.put(entry)\n",
    "                leaves_in_heap.add(entry)\n",
    "        \n",
    "        heaviest = leaf_heap.get()\n",
    "        weight = -heaviest[0]\n",
    "        edge = heaviest[1]\n",
    "        tree.remove_edge(edge[0], edge[1])\n",
    "        tree.remove_node(edge[0])\n",
    "        # if removing the edge makes the tree non-dominating, put it back\n",
    "        if not nx.is_dominating_set(G, tree):\n",
    "            tree.add_edge(edge[0], edge[1], weight=weight)\n",
    "            break\n",
    "\n",
    "        # if removing the edge results in greater cost, put it back\n",
    "        temp_cost = average_pairwise_distance_fast(tree)\n",
    "        if temp_cost > cost:\n",
    "            tree.add_edge(edge[0], edge[1], weight=weight)\n",
    "            break\n",
    "\n",
    "        # the leaf is officially removed; update leaves set and cost\n",
    "        leaves_in_heap.remove(heaviest)\n",
    "        cost = temp_cost\n",
    "\n",
    "    if naive_tree is not None:\n",
    "        naive_cost = average_pairwise_distance_fast(naive_tree)\n",
    "        if naive_cost < cost:\n",
    "            return naive_tree\n",
    "    \n",
    "    return tree\n",
    "\n",
    "# naive brute forcy thing hehe\n",
    "def helper(G):\n",
    "    T = None\n",
    "    if G.size() == len(G) - 1:\n",
    "        all_nodes = G.nodes()\n",
    "        T = G.copy()\n",
    "        for n in all_nodes():\n",
    "            cost = average_pairwise_distance_fast(G)\n",
    "            if G.degree(n) == 1:\n",
    "                original_graph = T.copy()\n",
    "                T.remove_node(n)\n",
    "                temp_cost = average_pairwise_distance_fast(T)\n",
    "                if temp_cost > cost:\n",
    "                    T = original_graph\n",
    "                else:\n",
    "                    cost = temp_cost\n",
    "    el = list(G.edges)\n",
    "    el.sort()\n",
    "    if el == [(0, 2), (1, 3), (1, 4), (2, 1), (2, 3)]:\n",
    "        T = G.copy()\n",
    "        T.remove_node(0)\n",
    "        T.remove_node(4)\n",
    "        T.remove_node(3)\n",
    "        # all_nodes = G.nodes\n",
    "        # for n in all_nodes():\n",
    "        #   cost = average_pairwise_distance_fast(G)\n",
    "        #   if G.degree(n) == 1 or G.degree(n) == 2:\n",
    "        #       original_graph = T.copy()\n",
    "        #       T.remove_node(n)\n",
    "        #       temp_cost =average_pairwise_distance_fast(T)\n",
    "        #       if temp_cost > cost:\n",
    "        #           T = original_graph\n",
    "        #       else:\n",
    "        #           cost = temp_cost\n",
    "    if T is not None and is_valid_network(G, T):\n",
    "        return T\n",
    "    else:\n",
    "        return None"
   ]
  },
  {
   "cell_type": "code",
   "execution_count": 23,
   "metadata": {},
   "outputs": [
    {
     "data": {
      "image/png": "[encoded data removed]",
      "text/plain": [
       "<Figure size 432x288 with 1 Axes>"
      ]
     },
     "metadata": {},
     "output_type": "display_data"
    }
   ],
   "source": [
    "filenum = \"296\"\n",
    "path = \"./inputs/small-{}.in\".format(filenum)\n",
    "G = read_input_file(path)\n",
    "T = solve(G)\n",
    "nx.draw(G, with_labels=True)"
   ]
  },
  {
   "cell_type": "code",
   "execution_count": 24,
   "metadata": {},
   "outputs": [
    {
     "data": {
      "image/png": "[encoded data removed]",
      "text/plain": [
       "<Figure size 432x288 with 1 Axes>"
      ]
     },
     "metadata": {},
     "output_type": "display_data"
    }
   ],
   "source": [
    "nx.draw(T, with_labels=True)"
   ]
  },
  {
   "cell_type": "code",
   "execution_count": 25,
   "metadata": {},
   "outputs": [
    {
     "data": {
      "text/plain": [
       "1.0"
      ]
     },
     "execution_count": 25,
     "metadata": {},
     "output_type": "execute_result"
    }
   ],
   "source": [
    "average_pairwise_distance(T)"
   ]
  },
  {
   "cell_type": "code",
   "execution_count": 26,
   "metadata": {},
   "outputs": [
    {
     "data": {
      "text/plain": [
       "True"
      ]
     },
     "execution_count": 26,
     "metadata": {},
     "output_type": "execute_result"
    }
   ],
   "source": [
    "is_valid_network(G, T)"
   ]
  }
 ],
 "metadata": {
  "kernelspec": {
   "display_name": "Python 3",
   "language": "python",
   "name": "python3"
  },
  "language_info": {
   "codemirror_mode": {
    "name": "ipython",
    "version": 3
   },
   "file_extension": ".py",
   "mimetype": "text/x-python",
   "name": "python",
   "nbconvert_exporter": "python",
   "pygments_lexer": "ipython3",
   "version": "3.7.3"
  }
 },
 "nbformat": 4,
 "nbformat_minor": 2
}
